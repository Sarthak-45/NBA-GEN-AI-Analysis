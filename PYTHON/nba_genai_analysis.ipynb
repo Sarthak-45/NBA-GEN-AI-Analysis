{
 "cells": [
  {
   "cell_type": "code",
   "execution_count": 1,
   "id": "3f5a134f",
   "metadata": {},
   "outputs": [
    {
     "name": "stdout",
     "output_type": "stream",
     "text": [
      "Defaulting to user installation because normal site-packages is not writeable\n",
      "Requirement already satisfied: google-generativeai in c:\\users\\asus\\appdata\\roaming\\python\\python311\\site-packages (0.8.5)\n",
      "Requirement already satisfied: pandas in c:\\program files\\python311\\lib\\site-packages (2.2.3)\n",
      "Requirement already satisfied: matplotlib in c:\\program files\\python311\\lib\\site-packages (3.9.3)\n",
      "Collecting python-dotenv\n",
      "  Downloading python_dotenv-1.1.1-py3-none-any.whl.metadata (24 kB)\n",
      "Requirement already satisfied: google-ai-generativelanguage==0.6.15 in c:\\users\\asus\\appdata\\roaming\\python\\python311\\site-packages (from google-generativeai) (0.6.15)\n",
      "Requirement already satisfied: google-api-core in c:\\users\\asus\\appdata\\roaming\\python\\python311\\site-packages (from google-generativeai) (2.25.1)\n",
      "Requirement already satisfied: google-api-python-client in c:\\users\\asus\\appdata\\roaming\\python\\python311\\site-packages (from google-generativeai) (2.177.0)\n",
      "Requirement already satisfied: google-auth>=2.15.0 in c:\\users\\asus\\appdata\\roaming\\python\\python311\\site-packages (from google-generativeai) (2.17.1)\n",
      "Requirement already satisfied: protobuf in c:\\users\\asus\\appdata\\roaming\\python\\python311\\site-packages (from google-generativeai) (5.29.5)\n",
      "Requirement already satisfied: pydantic in c:\\users\\asus\\appdata\\roaming\\python\\python311\\site-packages (from google-generativeai) (2.11.7)\n",
      "Requirement already satisfied: tqdm in c:\\users\\asus\\appdata\\roaming\\python\\python311\\site-packages (from google-generativeai) (4.67.1)\n",
      "Requirement already satisfied: typing-extensions in c:\\users\\asus\\appdata\\roaming\\python\\python311\\site-packages (from google-generativeai) (4.13.2)\n",
      "Requirement already satisfied: proto-plus<2.0.0dev,>=1.22.3 in c:\\users\\asus\\appdata\\roaming\\python\\python311\\site-packages (from google-ai-generativelanguage==0.6.15->google-generativeai) (1.26.1)\n",
      "Requirement already satisfied: googleapis-common-protos<2.0.0,>=1.56.2 in c:\\users\\asus\\appdata\\roaming\\python\\python311\\site-packages (from google-api-core->google-generativeai) (1.70.0)\n",
      "Requirement already satisfied: requests<3.0.0,>=2.18.0 in c:\\users\\asus\\appdata\\roaming\\python\\python311\\site-packages (from google-api-core->google-generativeai) (2.32.4)\n",
      "Requirement already satisfied: grpcio<2.0.0,>=1.33.2 in c:\\users\\asus\\appdata\\roaming\\python\\python311\\site-packages (from google-api-core[grpc]!=2.0.*,!=2.1.*,!=2.10.*,!=2.2.*,!=2.3.*,!=2.4.*,!=2.5.*,!=2.6.*,!=2.7.*,!=2.8.*,!=2.9.*,<3.0.0dev,>=1.34.1->google-ai-generativelanguage==0.6.15->google-generativeai) (1.74.0)\n",
      "Requirement already satisfied: grpcio-status<2.0.0,>=1.33.2 in c:\\users\\asus\\appdata\\roaming\\python\\python311\\site-packages (from google-api-core[grpc]!=2.0.*,!=2.1.*,!=2.10.*,!=2.2.*,!=2.3.*,!=2.4.*,!=2.5.*,!=2.6.*,!=2.7.*,!=2.8.*,!=2.9.*,<3.0.0dev,>=1.34.1->google-ai-generativelanguage==0.6.15->google-generativeai) (1.71.2)\n",
      "Requirement already satisfied: cachetools<6.0,>=2.0.0 in c:\\users\\asus\\appdata\\roaming\\python\\python311\\site-packages (from google-auth>=2.15.0->google-generativeai) (5.3.0)\n",
      "Requirement already satisfied: pyasn1-modules>=0.2.1 in c:\\users\\asus\\appdata\\roaming\\python\\python311\\site-packages (from google-auth>=2.15.0->google-generativeai) (0.2.8)\n",
      "Requirement already satisfied: six>=1.9.0 in c:\\users\\asus\\appdata\\roaming\\python\\python311\\site-packages (from google-auth>=2.15.0->google-generativeai) (1.16.0)\n",
      "Requirement already satisfied: rsa<5,>=3.1.4 in c:\\users\\asus\\appdata\\roaming\\python\\python311\\site-packages (from google-auth>=2.15.0->google-generativeai) (4.9)\n",
      "Requirement already satisfied: charset_normalizer<4,>=2 in c:\\users\\asus\\appdata\\roaming\\python\\python311\\site-packages (from requests<3.0.0,>=2.18.0->google-api-core->google-generativeai) (3.1.0)\n",
      "Requirement already satisfied: idna<4,>=2.5 in c:\\users\\asus\\appdata\\roaming\\python\\python311\\site-packages (from requests<3.0.0,>=2.18.0->google-api-core->google-generativeai) (3.4)\n",
      "Requirement already satisfied: urllib3<3,>=1.21.1 in c:\\users\\asus\\appdata\\roaming\\python\\python311\\site-packages (from requests<3.0.0,>=2.18.0->google-api-core->google-generativeai) (1.26.15)\n",
      "Requirement already satisfied: certifi>=2017.4.17 in c:\\users\\asus\\appdata\\roaming\\python\\python311\\site-packages (from requests<3.0.0,>=2.18.0->google-api-core->google-generativeai) (2022.12.7)\n",
      "Requirement already satisfied: pyasn1>=0.1.3 in c:\\users\\asus\\appdata\\roaming\\python\\python311\\site-packages (from rsa<5,>=3.1.4->google-auth>=2.15.0->google-generativeai) (0.4.8)\n",
      "Requirement already satisfied: numpy>=1.23.2 in c:\\users\\asus\\appdata\\roaming\\python\\python311\\site-packages (from pandas) (2.3.2)\n",
      "Requirement already satisfied: python-dateutil>=2.8.2 in c:\\program files\\python311\\lib\\site-packages (from pandas) (2.9.0.post0)\n",
      "Requirement already satisfied: pytz>=2020.1 in c:\\program files\\python311\\lib\\site-packages (from pandas) (2024.2)\n",
      "Requirement already satisfied: tzdata>=2022.7 in c:\\program files\\python311\\lib\\site-packages (from pandas) (2024.2)\n",
      "Requirement already satisfied: contourpy>=1.0.1 in c:\\program files\\python311\\lib\\site-packages (from matplotlib) (1.3.1)\n",
      "Requirement already satisfied: cycler>=0.10 in c:\\program files\\python311\\lib\\site-packages (from matplotlib) (0.12.1)\n",
      "Requirement already satisfied: fonttools>=4.22.0 in c:\\program files\\python311\\lib\\site-packages (from matplotlib) (4.55.1)\n",
      "Requirement already satisfied: kiwisolver>=1.3.1 in c:\\program files\\python311\\lib\\site-packages (from matplotlib) (1.4.7)\n",
      "Requirement already satisfied: packaging>=20.0 in c:\\users\\asus\\appdata\\roaming\\python\\python311\\site-packages (from matplotlib) (23.0)\n",
      "Requirement already satisfied: pillow>=8 in c:\\program files\\python311\\lib\\site-packages (from matplotlib) (11.0.0)\n",
      "Requirement already satisfied: pyparsing>=2.3.1 in c:\\program files\\python311\\lib\\site-packages (from matplotlib) (3.2.0)\n",
      "Requirement already satisfied: httplib2<1.0.0,>=0.19.0 in c:\\users\\asus\\appdata\\roaming\\python\\python311\\site-packages (from google-api-python-client->google-generativeai) (0.22.0)\n",
      "Requirement already satisfied: google-auth-httplib2<1.0.0,>=0.2.0 in c:\\users\\asus\\appdata\\roaming\\python\\python311\\site-packages (from google-api-python-client->google-generativeai) (0.2.0)\n",
      "Requirement already satisfied: uritemplate<5,>=3.0.1 in c:\\users\\asus\\appdata\\roaming\\python\\python311\\site-packages (from google-api-python-client->google-generativeai) (4.2.0)\n",
      "Requirement already satisfied: annotated-types>=0.6.0 in c:\\users\\asus\\appdata\\roaming\\python\\python311\\site-packages (from pydantic->google-generativeai) (0.7.0)\n",
      "Requirement already satisfied: pydantic-core==2.33.2 in c:\\users\\asus\\appdata\\roaming\\python\\python311\\site-packages (from pydantic->google-generativeai) (2.33.2)\n",
      "Requirement already satisfied: typing-inspection>=0.4.0 in c:\\users\\asus\\appdata\\roaming\\python\\python311\\site-packages (from pydantic->google-generativeai) (0.4.1)\n",
      "Requirement already satisfied: colorama in c:\\users\\asus\\appdata\\roaming\\python\\python311\\site-packages (from tqdm->google-generativeai) (0.4.6)\n",
      "Downloading python_dotenv-1.1.1-py3-none-any.whl (20 kB)\n",
      "Installing collected packages: python-dotenv\n",
      "Successfully installed python-dotenv-1.1.1\n"
     ]
    }
   ],
   "source": [
    "!pip install google-generativeai pandas matplotlib python-dotenv\n"
   ]
  },
  {
   "cell_type": "code",
   "execution_count": 2,
   "id": "de896ff9",
   "metadata": {},
   "outputs": [
    {
     "name": "stderr",
     "output_type": "stream",
     "text": [
      "C:\\Users\\ASUS\\AppData\\Roaming\\Python\\Python311\\site-packages\\tqdm\\auto.py:21: TqdmWarning: IProgress not found. Please update jupyter and ipywidgets. See https://ipywidgets.readthedocs.io/en/stable/user_install.html\n",
      "  from .autonotebook import tqdm as notebook_tqdm\n"
     ]
    }
   ],
   "source": [
    "import os\n",
    "from dotenv import load_dotenv\n",
    "import google.generativeai as genai\n",
    "\n",
    "# Load from .env\n",
    "load_dotenv()\n",
    "genai.configure(api_key=os.getenv(\"GEMINI_API_KEY\"))\n",
    "\n",
    "# Load the fast Gemini 1.5 Flash model\n",
    "model = genai.GenerativeModel(\"models/gemini-1.5-flash-latest\")\n"
   ]
  },
  {
   "cell_type": "code",
   "execution_count": 5,
   "id": "5d82adc1",
   "metadata": {},
   "outputs": [
    {
     "data": {
      "text/html": [
       "<div>\n",
       "<style scoped>\n",
       "    .dataframe tbody tr th:only-of-type {\n",
       "        vertical-align: middle;\n",
       "    }\n",
       "\n",
       "    .dataframe tbody tr th {\n",
       "        vertical-align: top;\n",
       "    }\n",
       "\n",
       "    .dataframe thead th {\n",
       "        text-align: right;\n",
       "    }\n",
       "</style>\n",
       "<table border=\"1\" class=\"dataframe\">\n",
       "  <thead>\n",
       "    <tr style=\"text-align: right;\">\n",
       "      <th></th>\n",
       "      <th>GAME_ID</th>\n",
       "      <th>TEAM_ID</th>\n",
       "      <th>TEAM_ABBREVIATION</th>\n",
       "      <th>TEAM_CITY</th>\n",
       "      <th>PLAYER_ID</th>\n",
       "      <th>PLAYER_NAME</th>\n",
       "      <th>NICKNAME</th>\n",
       "      <th>START_POSITION</th>\n",
       "      <th>MIN</th>\n",
       "      <th>FGM</th>\n",
       "      <th>...</th>\n",
       "      <th>PF</th>\n",
       "      <th>PTS</th>\n",
       "      <th>PLUS_MINUS</th>\n",
       "      <th>IS_STARTER</th>\n",
       "      <th>EFF</th>\n",
       "      <th>TS_PCT</th>\n",
       "      <th>EFF_scaled</th>\n",
       "      <th>TS_PCT_scaled</th>\n",
       "      <th>MIN_scaled</th>\n",
       "      <th>IMPACT_SCORE</th>\n",
       "    </tr>\n",
       "  </thead>\n",
       "  <tbody>\n",
       "    <tr>\n",
       "      <th>0</th>\n",
       "      <td>22400061</td>\n",
       "      <td>1610612752</td>\n",
       "      <td>NYK</td>\n",
       "      <td>New York</td>\n",
       "      <td>1628384</td>\n",
       "      <td>OG Anunoby</td>\n",
       "      <td>OG</td>\n",
       "      <td>F</td>\n",
       "      <td>34.17</td>\n",
       "      <td>1.0</td>\n",
       "      <td>...</td>\n",
       "      <td>3.0</td>\n",
       "      <td>4.0</td>\n",
       "      <td>-21.0</td>\n",
       "      <td>1</td>\n",
       "      <td>7.0</td>\n",
       "      <td>0.253807</td>\n",
       "      <td>0.215686</td>\n",
       "      <td>0.253807</td>\n",
       "      <td>0.781358</td>\n",
       "      <td>0.396824</td>\n",
       "    </tr>\n",
       "    <tr>\n",
       "      <th>1</th>\n",
       "      <td>22400061</td>\n",
       "      <td>1610612752</td>\n",
       "      <td>NYK</td>\n",
       "      <td>New York</td>\n",
       "      <td>1628404</td>\n",
       "      <td>Josh Hart</td>\n",
       "      <td>Josh</td>\n",
       "      <td>F</td>\n",
       "      <td>24.50</td>\n",
       "      <td>4.0</td>\n",
       "      <td>...</td>\n",
       "      <td>0.0</td>\n",
       "      <td>12.0</td>\n",
       "      <td>-23.0</td>\n",
       "      <td>1</td>\n",
       "      <td>14.0</td>\n",
       "      <td>0.694444</td>\n",
       "      <td>0.352941</td>\n",
       "      <td>0.694444</td>\n",
       "      <td>0.558803</td>\n",
       "      <td>0.517151</td>\n",
       "    </tr>\n",
       "    <tr>\n",
       "      <th>2</th>\n",
       "      <td>22400061</td>\n",
       "      <td>1610612752</td>\n",
       "      <td>NYK</td>\n",
       "      <td>New York</td>\n",
       "      <td>1626157</td>\n",
       "      <td>Karl-Anthony Towns</td>\n",
       "      <td>Karl-Anthony</td>\n",
       "      <td>C</td>\n",
       "      <td>23.62</td>\n",
       "      <td>5.0</td>\n",
       "      <td>...</td>\n",
       "      <td>1.0</td>\n",
       "      <td>12.0</td>\n",
       "      <td>-18.0</td>\n",
       "      <td>1</td>\n",
       "      <td>18.0</td>\n",
       "      <td>0.635593</td>\n",
       "      <td>0.431373</td>\n",
       "      <td>0.635593</td>\n",
       "      <td>0.538550</td>\n",
       "      <td>0.524792</td>\n",
       "    </tr>\n",
       "    <tr>\n",
       "      <th>3</th>\n",
       "      <td>22400061</td>\n",
       "      <td>1610612752</td>\n",
       "      <td>NYK</td>\n",
       "      <td>New York</td>\n",
       "      <td>1628969</td>\n",
       "      <td>Mikal Bridges</td>\n",
       "      <td>Mikal</td>\n",
       "      <td>G</td>\n",
       "      <td>34.62</td>\n",
       "      <td>7.0</td>\n",
       "      <td>...</td>\n",
       "      <td>0.0</td>\n",
       "      <td>16.0</td>\n",
       "      <td>-33.0</td>\n",
       "      <td>1</td>\n",
       "      <td>10.0</td>\n",
       "      <td>0.595238</td>\n",
       "      <td>0.274510</td>\n",
       "      <td>0.595238</td>\n",
       "      <td>0.791715</td>\n",
       "      <td>0.525890</td>\n",
       "    </tr>\n",
       "    <tr>\n",
       "      <th>4</th>\n",
       "      <td>22400061</td>\n",
       "      <td>1610612752</td>\n",
       "      <td>NYK</td>\n",
       "      <td>New York</td>\n",
       "      <td>1628973</td>\n",
       "      <td>Jalen Brunson</td>\n",
       "      <td>Jalen</td>\n",
       "      <td>G</td>\n",
       "      <td>24.50</td>\n",
       "      <td>9.0</td>\n",
       "      <td>...</td>\n",
       "      <td>3.0</td>\n",
       "      <td>22.0</td>\n",
       "      <td>-23.0</td>\n",
       "      <td>1</td>\n",
       "      <td>16.0</td>\n",
       "      <td>0.718016</td>\n",
       "      <td>0.392157</td>\n",
       "      <td>0.718016</td>\n",
       "      <td>0.558803</td>\n",
       "      <td>0.539908</td>\n",
       "    </tr>\n",
       "  </tbody>\n",
       "</table>\n",
       "<p>5 rows × 35 columns</p>\n",
       "</div>"
      ],
      "text/plain": [
       "    GAME_ID     TEAM_ID TEAM_ABBREVIATION TEAM_CITY  PLAYER_ID  \\\n",
       "0  22400061  1610612752               NYK  New York    1628384   \n",
       "1  22400061  1610612752               NYK  New York    1628404   \n",
       "2  22400061  1610612752               NYK  New York    1626157   \n",
       "3  22400061  1610612752               NYK  New York    1628969   \n",
       "4  22400061  1610612752               NYK  New York    1628973   \n",
       "\n",
       "          PLAYER_NAME      NICKNAME START_POSITION    MIN  FGM  ...   PF  \\\n",
       "0          OG Anunoby            OG              F  34.17  1.0  ...  3.0   \n",
       "1           Josh Hart          Josh              F  24.50  4.0  ...  0.0   \n",
       "2  Karl-Anthony Towns  Karl-Anthony              C  23.62  5.0  ...  1.0   \n",
       "3       Mikal Bridges         Mikal              G  34.62  7.0  ...  0.0   \n",
       "4       Jalen Brunson         Jalen              G  24.50  9.0  ...  3.0   \n",
       "\n",
       "    PTS  PLUS_MINUS  IS_STARTER   EFF    TS_PCT  EFF_scaled  TS_PCT_scaled  \\\n",
       "0   4.0       -21.0           1   7.0  0.253807    0.215686       0.253807   \n",
       "1  12.0       -23.0           1  14.0  0.694444    0.352941       0.694444   \n",
       "2  12.0       -18.0           1  18.0  0.635593    0.431373       0.635593   \n",
       "3  16.0       -33.0           1  10.0  0.595238    0.274510       0.595238   \n",
       "4  22.0       -23.0           1  16.0  0.718016    0.392157       0.718016   \n",
       "\n",
       "   MIN_scaled  IMPACT_SCORE  \n",
       "0    0.781358      0.396824  \n",
       "1    0.558803      0.517151  \n",
       "2    0.538550      0.524792  \n",
       "3    0.791715      0.525890  \n",
       "4    0.558803      0.539908  \n",
       "\n",
       "[5 rows x 35 columns]"
      ]
     },
     "execution_count": 5,
     "metadata": {},
     "output_type": "execute_result"
    }
   ],
   "source": [
    "import pandas as pd\n",
    "\n",
    "df = pd.read_csv(\"player_stats.csv\")  # replace with your actual file\n",
    "df.head()\n"
   ]
  },
  {
   "cell_type": "code",
   "execution_count": 7,
   "id": "12b7a8e3",
   "metadata": {},
   "outputs": [
    {
     "name": "stdout",
     "output_type": "stream",
     "text": [
      "   TEAM_ABBREVIATION        PTS       REB       AST       STL       BLK\n",
      "0                ATL  14.437500  4.750000  3.062500  1.375000  1.000000\n",
      "1                BKN  10.333333  3.809524  2.047619  0.714286  0.428571\n",
      "2                BOS  10.160000  3.560000  2.160000  0.520000  0.240000\n",
      "3                CHA  11.500000  5.450000  2.100000  0.650000  0.700000\n",
      "4                CHI  10.478261  4.043478  2.434783  0.608696  0.260870\n",
      "5                CLE   9.772727  3.045455  2.500000  0.954545  0.590909\n",
      "6                DAL   9.230769  3.846154  2.076923  0.692308  0.384615\n",
      "7                DEN   6.214286  4.071429  2.071429  0.785714  0.500000\n",
      "8                DET   9.130435  3.478261  2.043478  0.391304  0.304348\n",
      "9                GSW   9.653846  4.230769  2.692308  1.038462  0.346154\n",
      "10               HOU  10.454545  4.772727  1.772727  0.818182  0.363636\n",
      "11               IND   8.115385  2.769231  2.307692  0.692308  0.538462\n",
      "12               LAC  11.333333  5.333333  2.888889  0.888889  0.111111\n",
      "13               LAL  12.777778  4.444444  3.055556  0.944444  0.722222\n",
      "14               MEM  10.409091  3.590909  2.318182  0.681818  0.590909\n",
      "15               MIA   8.181818  3.454545  2.000000  0.454545  0.636364\n",
      "16               MIL   9.125000  3.625000  1.958333  0.375000  0.500000\n",
      "17               MIN  12.222222  4.944444  2.277778  0.388889  0.166667\n",
      "18               NOP  10.363636  3.909091  2.454545  1.227273  0.818182\n",
      "19               NYK   9.913043  3.347826  1.695652  0.304348  0.304348\n",
      "20               OKC   7.846154  3.769231  1.769231  0.692308  1.000000\n",
      "21               ORL   9.160000  3.840000  2.240000  0.720000  0.600000\n",
      "22               PHI   8.640000  3.080000  1.480000  0.600000  0.280000\n",
      "23               PHX  11.200000  3.700000  2.850000  0.900000  0.650000\n",
      "24               POR   9.857143  4.285714  2.238095  0.809524  0.714286\n",
      "25               SAC  11.500000  3.800000  2.100000  0.700000  0.200000\n",
      "26               SAS   8.384615  4.000000  2.307692  0.461538  0.384615\n",
      "27               TOR   8.840000  3.680000  2.000000  0.760000  0.760000\n",
      "28               UTA  10.200000  4.400000  1.850000  0.750000  0.700000\n",
      "29               WAS   7.285714  2.857143  1.928571  0.642857  0.428571\n"
     ]
    }
   ],
   "source": [
    "team_avg = df.groupby('TEAM_ABBREVIATION')[['PTS', 'REB', 'AST', 'STL', 'BLK']].mean().reset_index()\n",
    "print(team_avg)\n",
    "\n",
    "prompt = f\"\"\"\n",
    "Summarize the performance of NBA teams based on the following stats:\n",
    "{team_avg.head(10).to_string(index=False)}\n",
    "\"\"\"\n"
   ]
  },
  {
   "cell_type": "code",
   "execution_count": 8,
   "id": "e374b53f",
   "metadata": {},
   "outputs": [
    {
     "name": "stdout",
     "output_type": "stream",
     "text": [
      "Based on the provided statistics (PTS=Points, REB=Rebounds, AST=Assists, STL=Steals, BLK=Blocks), the Atlanta Hawks (ATL) exhibit the strongest overall performance across all categories.  They significantly lead in points (PTS) and rebounds (REB).\n",
      "\n",
      "Other teams show varying strengths and weaknesses:  Charlotte (CHA) displays a strong rebounding presence, while Golden State (GSW) is notable for its steals (STL).  Cleveland (CLE) has a good number of blocks (BLK).  The remaining teams (BKN, BOS, CHI, CLE, DAL, DEN, DET, GSW) show comparatively lower scores across the board, with no team excelling significantly in multiple categories except for the aspects mentioned above.  It's important to note that this is a limited dataset and a full team performance evaluation would require more comprehensive data.\n",
      "\n"
     ]
    }
   ],
   "source": [
    "response = model.generate_content(prompt)\n",
    "print(response.text)"
   ]
  },
  {
   "cell_type": "code",
   "execution_count": 9,
   "id": "dae09ff2",
   "metadata": {},
   "outputs": [
    {
     "name": "stdout",
     "output_type": "stream",
     "text": [
      "**Jayson Tatum Performance Report Card - Game ID: 22400067**\n",
      "\n",
      "**Overall Grade:** A+\n",
      "\n",
      "**Offensive Performance:**\n",
      "\n",
      "* **Scoring (PTS):**  Exceptional (31 points).  Demonstrated consistent scoring ability across all three levels.\n",
      "* **Shooting Efficiency (FG_PCT, FG3_PCT, TS_PCT):** Excellent (61.4% FG, 50% 3PT, 76.1% TS%). Highly efficient scoring night, showcasing excellent shot selection and accuracy.\n",
      "* **Playmaking (AST):**  Strong (8 assists). Showcased improved court vision and ability to create scoring opportunities for teammates.\n",
      "* **Offensive Rebounding (OREB):**  Average (1 offensive rebound). Room for improvement in securing more offensive possessions.\n",
      "\n",
      "**Defensive Performance:**\n",
      "\n",
      "* **Rebounding (REB):**  Good (7.5 rebounds). Contributed significantly to the team's rebounding efforts.\n",
      "* **Steals/Blocks (STL, BLK):**  Adequate (1 steal, 0.5 blocks).  Can still improve his defensive impact in generating turnovers.\n",
      "* **Personal Fouls (PF):** Excellent (1 foul). Demonstrated excellent discipline on defense.\n",
      "\n",
      "**Other Key Metrics:**\n",
      "\n",
      "* **Minutes Played (MIN):**  Efficient (29.5 minutes).  High impact in limited minutes.\n",
      "* **Plus/Minus (+/-):** Outstanding (+20).  A significant positive impact on the game's outcome.\n",
      "* **Efficiency (EFF, EFF_scaled, IMPACT_SCORE):**  Exceptional (37.5 EFF, 0.81 EFF_scaled, 0.76 Impact Score).  Demonstrated high overall efficiency and impact on the game.\n",
      "\n",
      "**Areas for Improvement:**\n",
      "\n",
      "* Increase offensive rebounding numbers for better second-chance opportunities.\n",
      "* Continue to improve defensive steals and blocks to further increase overall defensive impact.\n",
      "\n",
      "\n",
      "**Summary:**\n",
      "\n",
      "Jayson Tatum delivered an outstanding all-around performance in this game. His exceptional scoring efficiency, combined with strong playmaking and solid rebounding, contributed significantly to his team's victory.  While there's always room for growth, this game showcased his elite potential and consistent impact.  His high efficiency and positive plus/minus clearly demonstrate his game-changing ability.\n",
      "\n"
     ]
    }
   ],
   "source": [
    "player_name = \"Jayson Tatum\"\n",
    "player_stats = df[df[\"PLAYER_NAME\"] == player_name].mean(numeric_only=True).to_dict()\n",
    "\n",
    "prompt = f\"\"\"\n",
    "Generate a performance report card for {player_name} using the following stats:\n",
    "{player_stats}\n",
    "\"\"\"\n",
    "response = model.generate_content(prompt)\n",
    "print(response.text)\n"
   ]
  },
  {
   "cell_type": "code",
   "execution_count": 10,
   "id": "161fb87d",
   "metadata": {},
   "outputs": [
    {
     "data": {
      "image/png": "[encoded data removed]",
      "text/plain": [
       "<Figure size 640x480 with 1 Axes>"
      ]
     },
     "metadata": {},
     "output_type": "display_data"
    },
    {
     "name": "stdout",
     "output_type": "stream",
     "text": [
      "This bar chart displays the top 10 players in the NBA, ranked by their average points per game.  It shows that Anthony Davis leads the pack with an average of 35.5 points per game, significantly higher than the rest of the top 10.  Trae Young and LaMelo Ball are tied for second place at 34.0 points per game.  The remaining players follow in descending order, with a relatively closer grouping of scores between approximately 29 and 31 points per game.  The chart highlights the scoring prowess of these ten players, showcasing their individual offensive contributions to their respective teams.  Note that this data represents *averages* and is likely taken over a specific timeframe (a season or part of a season), and the ranking could shift with future game performance.\n",
      "\n"
     ]
    }
   ],
   "source": [
    "import matplotlib.pyplot as plt\n",
    "\n",
    "top_pts = df.groupby('PLAYER_NAME')['PTS'].mean().sort_values(ascending=False).head(10)\n",
    "\n",
    "top_pts.plot(kind='barh', title='Top 10 Players by Points')\n",
    "plt.gca().invert_yaxis()\n",
    "plt.show()\n",
    "\n",
    "prompt = f\"\"\"\n",
    "Explain this bar chart of top 10 NBA players by average points per game:\n",
    "{top_pts.to_string()}\n",
    "\"\"\"\n",
    "response = model.generate_content(prompt)\n",
    "print(response.text)\n"
   ]
  },
  {
   "cell_type": "code",
   "execution_count": 14,
   "id": "808cb21e",
   "metadata": {},
   "outputs": [
    {
     "name": "stdout",
     "output_type": "stream",
     "text": [
      "🔍 Generated Code:\n",
      " \n",
      "df.groupby('PLAYER_NAME')['REB'].mean().idxmax()\n",
      "\n",
      "\n",
      "✅ Result:\n",
      " Alperen Sengun\n"
     ]
    }
   ],
   "source": [
    "columns = list(df.columns)\n",
    "\n",
    "def ask_gemini_query(query):\n",
    "    prompt = f\"\"\"\n",
    "You are a pandas expert. Convert this natural language question into valid Python code using DataFrame `df`.\n",
    "The available columns are: {columns}\n",
    "Query: \\\"{query}\\\"\n",
    "Return only the code.\n",
    "\"\"\"\n",
    "    response = model.generate_content(prompt)\n",
    "    code = response.text.strip().strip(\"```python\").strip(\"```\")\n",
    "    print(\"🔍 Generated Code:\\n\", code)\n",
    "    try:\n",
    "        result = eval(code)\n",
    "        print(\"✅ Result:\\n\", result)\n",
    "    except Exception as e:\n",
    "        print(\"❌ Error:\", e)\n",
    "\n",
    "# Example use\n",
    "ask_gemini_query(\"Which player has the highest average rebounds?\")\n"
   ]
  },
  {
   "cell_type": "code",
   "execution_count": 15,
   "id": "ce28a20f",
   "metadata": {},
   "outputs": [
    {
     "data": {
      "text/plain": [
       "PLAYER_NAME\n",
       "Alperen Sengun    33.0\n",
       "Name: REB, dtype: float64"
      ]
     },
     "execution_count": 15,
     "metadata": {},
     "output_type": "execute_result"
    }
   ],
   "source": [
    "df.groupby('PLAYER_NAME')['REB'].sum().sort_values(ascending=False).head(1)\n"
   ]
  },
  {
   "cell_type": "code",
   "execution_count": null,
   "id": "edb8088a",
   "metadata": {},
   "outputs": [],
   "source": []
  }
 ],
 "metadata": {
  "kernelspec": {
   "display_name": "Python 3",
   "language": "python",
   "name": "python3"
  },
  "language_info": {
   "codemirror_mode": {
    "name": "ipython",
    "version": 3
   },
   "file_extension": ".py",
   "mimetype": "text/x-python",
   "name": "python",
   "nbconvert_exporter": "python",
   "pygments_lexer": "ipython3",
   "version": "3.11.1"
  }
 },
 "nbformat": 4,
 "nbformat_minor": 5
}
